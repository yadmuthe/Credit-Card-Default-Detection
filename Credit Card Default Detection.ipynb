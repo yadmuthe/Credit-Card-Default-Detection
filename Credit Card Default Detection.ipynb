{
 "cells": [
  {
   "cell_type": "markdown",
   "id": "0bba4f01",
   "metadata": {},
   "source": [
    "   # Credit Card Default Detection"
   ]
  },
  {
   "cell_type": "code",
   "execution_count": 140,
   "id": "4ad095af",
   "metadata": {
    "id": "4ad095af"
   },
   "outputs": [],
   "source": [
    "# CPE 695-A Final Project Team 2\n",
    "\n",
    "# Group Members:\n",
    "# Yash S Admuthe\n",
    "# Jerry Veembukattu Thomas\n",
    "# Nikhil Chouhan\n",
    "\n",
    "\n",
    "\n",
    "import pandas as pd\n",
    "import matplotlib.pyplot as plt\n",
    "import numpy as np\n",
    "import seaborn as sns\n",
    "import imblearn\n",
    "from imblearn.under_sampling import NearMiss\n",
    "from sklearn.model_selection import train_test_split\n",
    "from sklearn.preprocessing import StandardScaler\n",
    "from sklearn.datasets import make_classification\n",
    "from sklearn.metrics import confusion_matrix, classification_report\n",
    "from sklearn.metrics import accuracy_score"
   ]
  },
  {
   "cell_type": "code",
   "execution_count": 108,
   "id": "ed541ec4",
   "metadata": {
    "id": "ed541ec4"
   },
   "outputs": [],
   "source": [
    "# reading csv file\n",
    "\n",
    "df=pd.read_csv('credit_data.csv')"
   ]
  },
  {
   "cell_type": "code",
   "execution_count": 109,
   "id": "14867103",
   "metadata": {
    "colab": {
     "base_uri": "https://localhost:8080/",
     "height": 427
    },
    "id": "14867103",
    "outputId": "0fd11c04-d425-48a1-e983-162480999a52"
   },
   "outputs": [
    {
     "data": {
      "text/html": [
       "<div>\n",
       "<style scoped>\n",
       "    .dataframe tbody tr th:only-of-type {\n",
       "        vertical-align: middle;\n",
       "    }\n",
       "\n",
       "    .dataframe tbody tr th {\n",
       "        vertical-align: top;\n",
       "    }\n",
       "\n",
       "    .dataframe thead th {\n",
       "        text-align: right;\n",
       "    }\n",
       "</style>\n",
       "<table border=\"1\" class=\"dataframe\">\n",
       "  <thead>\n",
       "    <tr style=\"text-align: right;\">\n",
       "      <th></th>\n",
       "      <th>CARDHLDR</th>\n",
       "      <th>DEFAULT</th>\n",
       "      <th>AGE</th>\n",
       "      <th>ACADMOS</th>\n",
       "      <th>ADEPCNT</th>\n",
       "      <th>MAJORDRG</th>\n",
       "      <th>MINORDRG</th>\n",
       "      <th>OWNRENT</th>\n",
       "      <th>INCOME</th>\n",
       "      <th>SELFEMPL</th>\n",
       "      <th>INCPER</th>\n",
       "      <th>EXP_INC</th>\n",
       "      <th>SPENDING</th>\n",
       "      <th>LOGSPEND</th>\n",
       "    </tr>\n",
       "  </thead>\n",
       "  <tbody>\n",
       "    <tr>\n",
       "      <th>0</th>\n",
       "      <td>0</td>\n",
       "      <td>0</td>\n",
       "      <td>27.250000</td>\n",
       "      <td>4</td>\n",
       "      <td>0</td>\n",
       "      <td>0</td>\n",
       "      <td>0</td>\n",
       "      <td>0</td>\n",
       "      <td>1200.000000</td>\n",
       "      <td>0</td>\n",
       "      <td>18000.0</td>\n",
       "      <td>0.000667</td>\n",
       "      <td></td>\n",
       "      <td></td>\n",
       "    </tr>\n",
       "    <tr>\n",
       "      <th>1</th>\n",
       "      <td>0</td>\n",
       "      <td>0</td>\n",
       "      <td>40.833332</td>\n",
       "      <td>111</td>\n",
       "      <td>3</td>\n",
       "      <td>0</td>\n",
       "      <td>0</td>\n",
       "      <td>1</td>\n",
       "      <td>4000.000000</td>\n",
       "      <td>0</td>\n",
       "      <td>13500.0</td>\n",
       "      <td>0.000222</td>\n",
       "      <td></td>\n",
       "      <td></td>\n",
       "    </tr>\n",
       "    <tr>\n",
       "      <th>2</th>\n",
       "      <td>1</td>\n",
       "      <td>0</td>\n",
       "      <td>37.666668</td>\n",
       "      <td>54</td>\n",
       "      <td>3</td>\n",
       "      <td>0</td>\n",
       "      <td>0</td>\n",
       "      <td>1</td>\n",
       "      <td>3666.666667</td>\n",
       "      <td>0</td>\n",
       "      <td>11300.0</td>\n",
       "      <td>0.033270</td>\n",
       "      <td>121.9896773</td>\n",
       "      <td>4.8039364</td>\n",
       "    </tr>\n",
       "    <tr>\n",
       "      <th>3</th>\n",
       "      <td>1</td>\n",
       "      <td>0</td>\n",
       "      <td>42.500000</td>\n",
       "      <td>60</td>\n",
       "      <td>3</td>\n",
       "      <td>0</td>\n",
       "      <td>0</td>\n",
       "      <td>1</td>\n",
       "      <td>2000.000000</td>\n",
       "      <td>0</td>\n",
       "      <td>17250.0</td>\n",
       "      <td>0.048427</td>\n",
       "      <td>96.8536213</td>\n",
       "      <td>4.5732008</td>\n",
       "    </tr>\n",
       "    <tr>\n",
       "      <th>4</th>\n",
       "      <td>1</td>\n",
       "      <td>0</td>\n",
       "      <td>21.333334</td>\n",
       "      <td>8</td>\n",
       "      <td>0</td>\n",
       "      <td>0</td>\n",
       "      <td>0</td>\n",
       "      <td>0</td>\n",
       "      <td>2916.666667</td>\n",
       "      <td>0</td>\n",
       "      <td>35000.0</td>\n",
       "      <td>0.016523</td>\n",
       "      <td>48.1916700</td>\n",
       "      <td>3.8751862</td>\n",
       "    </tr>\n",
       "    <tr>\n",
       "      <th>5</th>\n",
       "      <td>1</td>\n",
       "      <td>0</td>\n",
       "      <td>20.833334</td>\n",
       "      <td>78</td>\n",
       "      <td>1</td>\n",
       "      <td>0</td>\n",
       "      <td>0</td>\n",
       "      <td>0</td>\n",
       "      <td>1750.000000</td>\n",
       "      <td>0</td>\n",
       "      <td>11750.0</td>\n",
       "      <td>0.031323</td>\n",
       "      <td>54.8159555</td>\n",
       "      <td>4.0039813</td>\n",
       "    </tr>\n",
       "    <tr>\n",
       "      <th>6</th>\n",
       "      <td>1</td>\n",
       "      <td>0</td>\n",
       "      <td>62.666668</td>\n",
       "      <td>25</td>\n",
       "      <td>1</td>\n",
       "      <td>0</td>\n",
       "      <td>0</td>\n",
       "      <td>1</td>\n",
       "      <td>5250.000000</td>\n",
       "      <td>0</td>\n",
       "      <td>36500.0</td>\n",
       "      <td>0.039269</td>\n",
       "      <td>206.1624667</td>\n",
       "      <td>5.3286645</td>\n",
       "    </tr>\n",
       "    <tr>\n",
       "      <th>7</th>\n",
       "      <td>1</td>\n",
       "      <td>0</td>\n",
       "      <td>20.333334</td>\n",
       "      <td>6</td>\n",
       "      <td>0</td>\n",
       "      <td>0</td>\n",
       "      <td>0</td>\n",
       "      <td>0</td>\n",
       "      <td>1833.333333</td>\n",
       "      <td>0</td>\n",
       "      <td>47000.0</td>\n",
       "      <td>0.049142</td>\n",
       "      <td>90.0938977</td>\n",
       "      <td>4.5008524</td>\n",
       "    </tr>\n",
       "    <tr>\n",
       "      <th>8</th>\n",
       "      <td>1</td>\n",
       "      <td>0</td>\n",
       "      <td>31.750000</td>\n",
       "      <td>20</td>\n",
       "      <td>3</td>\n",
       "      <td>0</td>\n",
       "      <td>0</td>\n",
       "      <td>0</td>\n",
       "      <td>2919.333333</td>\n",
       "      <td>0</td>\n",
       "      <td>8758.0</td>\n",
       "      <td>0.010049</td>\n",
       "      <td>29.3358326</td>\n",
       "      <td>3.3788097</td>\n",
       "    </tr>\n",
       "    <tr>\n",
       "      <th>9</th>\n",
       "      <td>1</td>\n",
       "      <td>0</td>\n",
       "      <td>45.833332</td>\n",
       "      <td>162</td>\n",
       "      <td>7</td>\n",
       "      <td>0</td>\n",
       "      <td>0</td>\n",
       "      <td>1</td>\n",
       "      <td>4916.666667</td>\n",
       "      <td>0</td>\n",
       "      <td>7375.0</td>\n",
       "      <td>0.094078</td>\n",
       "      <td>462.5508475</td>\n",
       "      <td>6.1367565</td>\n",
       "    </tr>\n",
       "  </tbody>\n",
       "</table>\n",
       "</div>"
      ],
      "text/plain": [
       "   CARDHLDR  DEFAULT        AGE  ACADMOS  ADEPCNT  MAJORDRG  MINORDRG  \\\n",
       "0         0        0  27.250000        4        0         0         0   \n",
       "1         0        0  40.833332      111        3         0         0   \n",
       "2         1        0  37.666668       54        3         0         0   \n",
       "3         1        0  42.500000       60        3         0         0   \n",
       "4         1        0  21.333334        8        0         0         0   \n",
       "5         1        0  20.833334       78        1         0         0   \n",
       "6         1        0  62.666668       25        1         0         0   \n",
       "7         1        0  20.333334        6        0         0         0   \n",
       "8         1        0  31.750000       20        3         0         0   \n",
       "9         1        0  45.833332      162        7         0         0   \n",
       "\n",
       "   OWNRENT       INCOME  SELFEMPL   INCPER   EXP_INC     SPENDING   LOGSPEND   \n",
       "0        0  1200.000000         0  18000.0  0.000667                           \n",
       "1        1  4000.000000         0  13500.0  0.000222                           \n",
       "2        1  3666.666667         0  11300.0  0.033270  121.9896773  4.8039364   \n",
       "3        1  2000.000000         0  17250.0  0.048427   96.8536213  4.5732008   \n",
       "4        0  2916.666667         0  35000.0  0.016523   48.1916700  3.8751862   \n",
       "5        0  1750.000000         0  11750.0  0.031323   54.8159555  4.0039813   \n",
       "6        1  5250.000000         0  36500.0  0.039269  206.1624667  5.3286645   \n",
       "7        0  1833.333333         0  47000.0  0.049142   90.0938977  4.5008524   \n",
       "8        0  2919.333333         0   8758.0  0.010049   29.3358326  3.3788097   \n",
       "9        1  4916.666667         0   7375.0  0.094078  462.5508475  6.1367565   "
      ]
     },
     "execution_count": 109,
     "metadata": {},
     "output_type": "execute_result"
    }
   ],
   "source": [
    "# It show first 10 records of datasets\n",
    "df.head(10)"
   ]
  },
  {
   "cell_type": "code",
   "execution_count": 110,
   "id": "19851c95",
   "metadata": {
    "colab": {
     "base_uri": "https://localhost:8080/"
    },
    "id": "19851c95",
    "outputId": "bde1ebde-57e0-47a5-8325-c10f70c6e86e"
   },
   "outputs": [
    {
     "data": {
      "text/plain": [
       "(13444, 14)"
      ]
     },
     "execution_count": 110,
     "metadata": {},
     "output_type": "execute_result"
    }
   ],
   "source": [
    "# Define shape datasets (Total number of rows- 13444 , Total number of columns- 14)\n",
    "df.shape"
   ]
  },
  {
   "cell_type": "code",
   "execution_count": 111,
   "id": "4fe404b5",
   "metadata": {
    "colab": {
     "base_uri": "https://localhost:8080/",
     "height": 364
    },
    "id": "4fe404b5",
    "outputId": "4de43320-bc2d-4076-cc90-8bf521266c95"
   },
   "outputs": [
    {
     "data": {
      "text/html": [
       "<div>\n",
       "<style scoped>\n",
       "    .dataframe tbody tr th:only-of-type {\n",
       "        vertical-align: middle;\n",
       "    }\n",
       "\n",
       "    .dataframe tbody tr th {\n",
       "        vertical-align: top;\n",
       "    }\n",
       "\n",
       "    .dataframe thead th {\n",
       "        text-align: right;\n",
       "    }\n",
       "</style>\n",
       "<table border=\"1\" class=\"dataframe\">\n",
       "  <thead>\n",
       "    <tr style=\"text-align: right;\">\n",
       "      <th></th>\n",
       "      <th>CARDHLDR</th>\n",
       "      <th>DEFAULT</th>\n",
       "      <th>AGE</th>\n",
       "      <th>ACADMOS</th>\n",
       "      <th>ADEPCNT</th>\n",
       "      <th>MAJORDRG</th>\n",
       "      <th>MINORDRG</th>\n",
       "      <th>OWNRENT</th>\n",
       "      <th>INCOME</th>\n",
       "      <th>SELFEMPL</th>\n",
       "      <th>INCPER</th>\n",
       "      <th>EXP_INC</th>\n",
       "    </tr>\n",
       "  </thead>\n",
       "  <tbody>\n",
       "    <tr>\n",
       "      <th>count</th>\n",
       "      <td>13444.000000</td>\n",
       "      <td>13444.000000</td>\n",
       "      <td>13444.000000</td>\n",
       "      <td>13444.000000</td>\n",
       "      <td>13444.000000</td>\n",
       "      <td>13444.000000</td>\n",
       "      <td>13444.000000</td>\n",
       "      <td>13444.000000</td>\n",
       "      <td>13444.000000</td>\n",
       "      <td>13444.000000</td>\n",
       "      <td>13444.000000</td>\n",
       "      <td>13444.000000</td>\n",
       "    </tr>\n",
       "    <tr>\n",
       "      <th>mean</th>\n",
       "      <td>0.780943</td>\n",
       "      <td>0.074085</td>\n",
       "      <td>33.471828</td>\n",
       "      <td>55.318878</td>\n",
       "      <td>1.017257</td>\n",
       "      <td>0.462809</td>\n",
       "      <td>0.290539</td>\n",
       "      <td>0.455965</td>\n",
       "      <td>2509.527819</td>\n",
       "      <td>0.057944</td>\n",
       "      <td>21719.680793</td>\n",
       "      <td>0.070974</td>\n",
       "    </tr>\n",
       "    <tr>\n",
       "      <th>std</th>\n",
       "      <td>0.413623</td>\n",
       "      <td>0.261919</td>\n",
       "      <td>10.226484</td>\n",
       "      <td>63.089729</td>\n",
       "      <td>1.279098</td>\n",
       "      <td>1.432724</td>\n",
       "      <td>0.767620</td>\n",
       "      <td>0.498076</td>\n",
       "      <td>1252.946716</td>\n",
       "      <td>0.233646</td>\n",
       "      <td>13591.209469</td>\n",
       "      <td>0.103922</td>\n",
       "    </tr>\n",
       "    <tr>\n",
       "      <th>min</th>\n",
       "      <td>0.000000</td>\n",
       "      <td>0.000000</td>\n",
       "      <td>0.000000</td>\n",
       "      <td>0.000000</td>\n",
       "      <td>0.000000</td>\n",
       "      <td>0.000000</td>\n",
       "      <td>0.000000</td>\n",
       "      <td>0.000000</td>\n",
       "      <td>50.000000</td>\n",
       "      <td>0.000000</td>\n",
       "      <td>362.500000</td>\n",
       "      <td>0.000088</td>\n",
       "    </tr>\n",
       "    <tr>\n",
       "      <th>25%</th>\n",
       "      <td>1.000000</td>\n",
       "      <td>0.000000</td>\n",
       "      <td>25.666666</td>\n",
       "      <td>12.000000</td>\n",
       "      <td>0.000000</td>\n",
       "      <td>0.000000</td>\n",
       "      <td>0.000000</td>\n",
       "      <td>0.000000</td>\n",
       "      <td>1666.666667</td>\n",
       "      <td>0.000000</td>\n",
       "      <td>12000.000000</td>\n",
       "      <td>0.002706</td>\n",
       "    </tr>\n",
       "    <tr>\n",
       "      <th>50%</th>\n",
       "      <td>1.000000</td>\n",
       "      <td>0.000000</td>\n",
       "      <td>31.500000</td>\n",
       "      <td>30.000000</td>\n",
       "      <td>1.000000</td>\n",
       "      <td>0.000000</td>\n",
       "      <td>0.000000</td>\n",
       "      <td>0.000000</td>\n",
       "      <td>2166.666667</td>\n",
       "      <td>0.000000</td>\n",
       "      <td>19000.000000</td>\n",
       "      <td>0.039286</td>\n",
       "    </tr>\n",
       "    <tr>\n",
       "      <th>75%</th>\n",
       "      <td>1.000000</td>\n",
       "      <td>0.000000</td>\n",
       "      <td>39.333332</td>\n",
       "      <td>72.000000</td>\n",
       "      <td>2.000000</td>\n",
       "      <td>0.000000</td>\n",
       "      <td>0.000000</td>\n",
       "      <td>1.000000</td>\n",
       "      <td>2916.666667</td>\n",
       "      <td>0.000000</td>\n",
       "      <td>27658.666504</td>\n",
       "      <td>0.095655</td>\n",
       "    </tr>\n",
       "    <tr>\n",
       "      <th>max</th>\n",
       "      <td>1.000000</td>\n",
       "      <td>1.000000</td>\n",
       "      <td>88.666664</td>\n",
       "      <td>576.000000</td>\n",
       "      <td>9.000000</td>\n",
       "      <td>22.000000</td>\n",
       "      <td>11.000000</td>\n",
       "      <td>1.000000</td>\n",
       "      <td>8333.250000</td>\n",
       "      <td>1.000000</td>\n",
       "      <td>150000.000000</td>\n",
       "      <td>2.037728</td>\n",
       "    </tr>\n",
       "  </tbody>\n",
       "</table>\n",
       "</div>"
      ],
      "text/plain": [
       "           CARDHLDR       DEFAULT           AGE       ACADMOS       ADEPCNT  \\\n",
       "count  13444.000000  13444.000000  13444.000000  13444.000000  13444.000000   \n",
       "mean       0.780943      0.074085     33.471828     55.318878      1.017257   \n",
       "std        0.413623      0.261919     10.226484     63.089729      1.279098   \n",
       "min        0.000000      0.000000      0.000000      0.000000      0.000000   \n",
       "25%        1.000000      0.000000     25.666666     12.000000      0.000000   \n",
       "50%        1.000000      0.000000     31.500000     30.000000      1.000000   \n",
       "75%        1.000000      0.000000     39.333332     72.000000      2.000000   \n",
       "max        1.000000      1.000000     88.666664    576.000000      9.000000   \n",
       "\n",
       "           MAJORDRG      MINORDRG       OWNRENT        INCOME      SELFEMPL  \\\n",
       "count  13444.000000  13444.000000  13444.000000  13444.000000  13444.000000   \n",
       "mean       0.462809      0.290539      0.455965   2509.527819      0.057944   \n",
       "std        1.432724      0.767620      0.498076   1252.946716      0.233646   \n",
       "min        0.000000      0.000000      0.000000     50.000000      0.000000   \n",
       "25%        0.000000      0.000000      0.000000   1666.666667      0.000000   \n",
       "50%        0.000000      0.000000      0.000000   2166.666667      0.000000   \n",
       "75%        0.000000      0.000000      1.000000   2916.666667      0.000000   \n",
       "max       22.000000     11.000000      1.000000   8333.250000      1.000000   \n",
       "\n",
       "              INCPER       EXP_INC  \n",
       "count   13444.000000  13444.000000  \n",
       "mean    21719.680793      0.070974  \n",
       "std     13591.209469      0.103922  \n",
       "min       362.500000      0.000088  \n",
       "25%     12000.000000      0.002706  \n",
       "50%     19000.000000      0.039286  \n",
       "75%     27658.666504      0.095655  \n",
       "max    150000.000000      2.037728  "
      ]
     },
     "execution_count": 111,
     "metadata": {},
     "output_type": "execute_result"
    }
   ],
   "source": [
    "# statistical summary of numerical values\n",
    "df.describe()"
   ]
  },
  {
   "cell_type": "code",
   "execution_count": 112,
   "id": "fafb5924",
   "metadata": {
    "colab": {
     "base_uri": "https://localhost:8080/"
    },
    "id": "fafb5924",
    "outputId": "96fb1492-b0ea-42cf-e1f7-e5b47d318c73"
   },
   "outputs": [
    {
     "name": "stdout",
     "output_type": "stream",
     "text": [
      "<class 'pandas.core.frame.DataFrame'>\n",
      "RangeIndex: 13444 entries, 0 to 13443\n",
      "Data columns (total 14 columns):\n",
      " #   Column     Non-Null Count  Dtype  \n",
      "---  ------     --------------  -----  \n",
      " 0   CARDHLDR   13444 non-null  int64  \n",
      " 1   DEFAULT    13444 non-null  int64  \n",
      " 2   AGE        13444 non-null  float64\n",
      " 3   ACADMOS    13444 non-null  int64  \n",
      " 4   ADEPCNT    13444 non-null  int64  \n",
      " 5   MAJORDRG   13444 non-null  int64  \n",
      " 6   MINORDRG   13444 non-null  int64  \n",
      " 7   OWNRENT    13444 non-null  int64  \n",
      " 8   INCOME     13444 non-null  float64\n",
      " 9   SELFEMPL   13444 non-null  int64  \n",
      " 10  INCPER     13444 non-null  float64\n",
      " 11  EXP_INC    13444 non-null  float64\n",
      " 12  SPENDING   13444 non-null  object \n",
      " 13  LOGSPEND   13444 non-null  object \n",
      "dtypes: float64(4), int64(8), object(2)\n",
      "memory usage: 1.4+ MB\n"
     ]
    }
   ],
   "source": [
    "# Print a concise summary of a DataFrame\n",
    "df.info()"
   ]
  },
  {
   "cell_type": "code",
   "execution_count": 113,
   "id": "cc66bfae",
   "metadata": {
    "colab": {
     "base_uri": "https://localhost:8080/"
    },
    "id": "cc66bfae",
    "outputId": "8a556704-f7cd-45b8-f454-18694e355324"
   },
   "outputs": [
    {
     "data": {
      "text/plain": [
       "Index(['CARDHLDR', 'DEFAULT', 'AGE', 'ACADMOS', 'ADEPCNT', 'MAJORDRG',\n",
       "       'MINORDRG', 'OWNRENT', 'INCOME', 'SELFEMPL', 'INCPER', 'EXP_INC',\n",
       "       'SPENDING', 'LOGSPEND '],\n",
       "      dtype='object')"
      ]
     },
     "execution_count": 113,
     "metadata": {},
     "output_type": "execute_result"
    }
   ],
   "source": [
    "# Shows each column Name\n",
    "df.columns"
   ]
  },
  {
   "cell_type": "code",
   "execution_count": 114,
   "id": "282cb40c",
   "metadata": {
    "id": "282cb40c"
   },
   "outputs": [],
   "source": [
    "# Rename the logspend column name\n",
    "df.rename(columns={'LOGSPEND ':'LOGSPEND'},inplace=True)"
   ]
  },
  {
   "cell_type": "code",
   "execution_count": 115,
   "id": "6e1ca690",
   "metadata": {
    "colab": {
     "base_uri": "https://localhost:8080/"
    },
    "id": "6e1ca690",
    "outputId": "ed0dbd4c-e8b9-4f7d-ae74-def5a4d3856b"
   },
   "outputs": [
    {
     "data": {
      "text/plain": [
       "Index(['CARDHLDR', 'DEFAULT', 'AGE', 'ACADMOS', 'ADEPCNT', 'MAJORDRG',\n",
       "       'MINORDRG', 'OWNRENT', 'INCOME', 'SELFEMPL', 'INCPER', 'EXP_INC',\n",
       "       'SPENDING', 'LOGSPEND'],\n",
       "      dtype='object')"
      ]
     },
     "execution_count": 115,
     "metadata": {},
     "output_type": "execute_result"
    }
   ],
   "source": [
    "df.columns"
   ]
  },
  {
   "cell_type": "code",
   "execution_count": 116,
   "id": "c68b118f",
   "metadata": {
    "id": "c68b118f"
   },
   "outputs": [],
   "source": [
    "# Remove the Logspend column from dataset\n",
    "df.drop('LOGSPEND',axis=1,inplace=True)"
   ]
  },
  {
   "cell_type": "code",
   "execution_count": 117,
   "id": "0e6daf7b",
   "metadata": {
    "id": "0e6daf7b"
   },
   "outputs": [],
   "source": [
    "# Convert the datatype of spending from object to numeric type\n",
    "df['SPENDING'] = pd.to_numeric(df['SPENDING'], errors='coerce')"
   ]
  },
  {
   "cell_type": "code",
   "execution_count": 118,
   "id": "159f49d5",
   "metadata": {
    "colab": {
     "base_uri": "https://localhost:8080/"
    },
    "id": "159f49d5",
    "outputId": "58eee1ae-fc64-43be-e431-c457c42e8675"
   },
   "outputs": [
    {
     "name": "stdout",
     "output_type": "stream",
     "text": [
      "<class 'pandas.core.frame.DataFrame'>\n",
      "RangeIndex: 13444 entries, 0 to 13443\n",
      "Data columns (total 13 columns):\n",
      " #   Column    Non-Null Count  Dtype  \n",
      "---  ------    --------------  -----  \n",
      " 0   CARDHLDR  13444 non-null  int64  \n",
      " 1   DEFAULT   13444 non-null  int64  \n",
      " 2   AGE       13444 non-null  float64\n",
      " 3   ACADMOS   13444 non-null  int64  \n",
      " 4   ADEPCNT   13444 non-null  int64  \n",
      " 5   MAJORDRG  13444 non-null  int64  \n",
      " 6   MINORDRG  13444 non-null  int64  \n",
      " 7   OWNRENT   13444 non-null  int64  \n",
      " 8   INCOME    13444 non-null  float64\n",
      " 9   SELFEMPL  13444 non-null  int64  \n",
      " 10  INCPER    13444 non-null  float64\n",
      " 11  EXP_INC   13444 non-null  float64\n",
      " 12  SPENDING  10499 non-null  float64\n",
      "dtypes: float64(5), int64(8)\n",
      "memory usage: 1.3 MB\n"
     ]
    }
   ],
   "source": [
    "df.info()"
   ]
  },
  {
   "cell_type": "code",
   "execution_count": 119,
   "id": "91d20b6f",
   "metadata": {
    "colab": {
     "base_uri": "https://localhost:8080/"
    },
    "id": "91d20b6f",
    "outputId": "7db41067-b854-4c51-f316-73a762d12a3d"
   },
   "outputs": [
    {
     "data": {
      "text/plain": [
       "CARDHLDR       0\n",
       "DEFAULT        0\n",
       "AGE            0\n",
       "ACADMOS        0\n",
       "ADEPCNT        0\n",
       "MAJORDRG       0\n",
       "MINORDRG       0\n",
       "OWNRENT        0\n",
       "INCOME         0\n",
       "SELFEMPL       0\n",
       "INCPER         0\n",
       "EXP_INC        0\n",
       "SPENDING    2945\n",
       "dtype: int64"
      ]
     },
     "execution_count": 119,
     "metadata": {},
     "output_type": "execute_result"
    }
   ],
   "source": [
    "# how many null values are present\n",
    "df.isnull().sum()"
   ]
  },
  {
   "cell_type": "code",
   "execution_count": 120,
   "id": "51cad1e0",
   "metadata": {},
   "outputs": [
    {
     "data": {
      "text/plain": [
       "(13.5, -0.5)"
      ]
     },
     "execution_count": 120,
     "metadata": {},
     "output_type": "execute_result"
    },
    {
     "data": {
      "image/png": "[encoded data removed]",
      "text/plain": [
       "<Figure size 2160x1440 with 2 Axes>"
      ]
     },
     "metadata": {
      "needs_background": "light"
     },
     "output_type": "display_data"
    }
   ],
   "source": [
    "# heatmap to show relation between variables\n",
    "plt.figure(figsize=(30,20))\n",
    "ax = sns.heatmap(data = df.corr(),cmap='YlGnBu',annot=True)\n",
    "bottom, top = ax.get_ylim()\n",
    "ax.set_ylim(bottom + 0.5,top - 0.5)"
   ]
  },
  {
   "cell_type": "code",
   "execution_count": 121,
   "id": "90f5f0f7",
   "metadata": {
    "colab": {
     "base_uri": "https://localhost:8080/",
     "height": 353
    },
    "id": "90f5f0f7",
    "outputId": "54fd75ae-a40d-4b79-c787-c836cf7c5c95"
   },
   "outputs": [
    {
     "name": "stderr",
     "output_type": "stream",
     "text": [
      "C:\\Users\\HP\\anaconda3\\lib\\site-packages\\seaborn\\_decorators.py:36: FutureWarning: Pass the following variable as a keyword arg: x. From version 0.12, the only valid positional argument will be `data`, and passing other arguments without an explicit keyword will result in an error or misinterpretation.\n",
      "  warnings.warn(\n"
     ]
    },
    {
     "data": {
      "text/plain": [
       "<AxesSubplot:xlabel='DEFAULT', ylabel='count'>"
      ]
     },
     "execution_count": 121,
     "metadata": {},
     "output_type": "execute_result"
    },
    {
     "data": {
      "image/png": "[encoded data removed]",
      "text/plain": [
       "<Figure size 432x288 with 1 Axes>"
      ]
     },
     "metadata": {
      "needs_background": "light"
     },
     "output_type": "display_data"
    }
   ],
   "source": [
    "# plot the number of 0's and 1's in Default features (It shows imbalanced data)\n",
    "sns.countplot(df['DEFAULT'])"
   ]
  },
  {
   "cell_type": "code",
   "execution_count": 122,
   "id": "7d23c546",
   "metadata": {
    "colab": {
     "base_uri": "https://localhost:8080/",
     "height": 318
    },
    "id": "7d23c546",
    "outputId": "1d185f1c-ddb3-44a0-b944-e96c92a7570f"
   },
   "outputs": [
    {
     "name": "stdout",
     "output_type": "stream",
     "text": [
      "0    12448\n",
      "1      996\n",
      "Name: DEFAULT, dtype: int64\n"
     ]
    },
    {
     "data": {
      "image/png": "[encoded data removed]",
      "text/plain": [
       "<Figure size 432x288 with 1 Axes>"
      ]
     },
     "metadata": {},
     "output_type": "display_data"
    }
   ],
   "source": [
    "# plot the pie chart to show number of 0's and 1's in Default features (It shows imbalanced data)\n",
    "value_counts = df[\"DEFAULT\"].value_counts()\n",
    "print(value_counts)\n",
    "fig, ax = plt.subplots()\n",
    "plot = ax.pie(x=[value_counts[0], value_counts[1]], labels=[0,1], \n",
    "           colors=['#003f5c', '#ffa600'], textprops={'color': '#040204'})\n",
    "plot = ax.axis('equal')\n",
    "plot = ax.set_title('No of Defaulters')"
   ]
  },
  {
   "cell_type": "code",
   "execution_count": 123,
   "id": "f2f356ea",
   "metadata": {
    "colab": {
     "base_uri": "https://localhost:8080/",
     "height": 353
    },
    "id": "f814408c",
    "outputId": "5a0201c5-e624-4715-a443-1987ea009e96"
   },
   "outputs": [
    {
     "name": "stderr",
     "output_type": "stream",
     "text": [
      "C:\\Users\\HP\\anaconda3\\lib\\site-packages\\seaborn\\_decorators.py:36: FutureWarning: Pass the following variable as a keyword arg: x. From version 0.12, the only valid positional argument will be `data`, and passing other arguments without an explicit keyword will result in an error or misinterpretation.\n",
      "  warnings.warn(\n"
     ]
    },
    {
     "data": {
      "text/plain": [
       "<AxesSubplot:xlabel='CARDHLDR', ylabel='count'>"
      ]
     },
     "execution_count": 123,
     "metadata": {},
     "output_type": "execute_result"
    },
    {
     "data": {
      "image/png": "[encoded data removed]",
      "text/plain": [
       "<Figure size 432x288 with 1 Axes>"
      ]
     },
     "metadata": {
      "needs_background": "light"
     },
     "output_type": "display_data"
    }
   ],
   "source": [
    "# count the number of application of credit card accepted or not\n",
    "sns.countplot(df['CARDHLDR'])"
   ]
  },
  {
   "cell_type": "code",
   "execution_count": 124,
   "id": "f440d28e",
   "metadata": {
    "colab": {
     "base_uri": "https://localhost:8080/",
     "height": 297
    },
    "id": "f440d28e",
    "outputId": "99e1a6db-d478-42ee-ab81-a0b4540981a6"
   },
   "outputs": [
    {
     "data": {
      "text/plain": [
       "<AxesSubplot:xlabel='SELFEMPL', ylabel='count'>"
      ]
     },
     "execution_count": 124,
     "metadata": {},
     "output_type": "execute_result"
    },
    {
     "data": {
      "image/png": "[encoded data removed]",
      "text/plain": [
       "<Figure size 432x288 with 1 Axes>"
      ]
     },
     "metadata": {
      "needs_background": "light"
     },
     "output_type": "display_data"
    }
   ],
   "source": [
    "# counting the number of self employed or not are defaulter or not\n",
    "sns.countplot(x = 'SELFEMPL', hue ='DEFAULT', data = df)"
   ]
  },
  {
   "cell_type": "code",
   "execution_count": 125,
   "id": "e8618d08",
   "metadata": {
    "colab": {
     "base_uri": "https://localhost:8080/",
     "height": 387
    },
    "id": "e8618d08",
    "outputId": "ba79fcc4-4224-4d9c-d18b-f2e192de6a47"
   },
   "outputs": [
    {
     "data": {
      "text/plain": [
       "<seaborn.axisgrid.FacetGrid at 0x224e57f7b80>"
      ]
     },
     "execution_count": 125,
     "metadata": {},
     "output_type": "execute_result"
    },
    {
     "data": {
      "image/png": "[encoded data removed]",
      "text/plain": [
       "<Figure size 360x360 with 1 Axes>"
      ]
     },
     "metadata": {
      "needs_background": "light"
     },
     "output_type": "display_data"
    }
   ],
   "source": [
    "# checking the distribution of spending column (it shows a right skewed)\n",
    "sns.displot(df['SPENDING'])"
   ]
  },
  {
   "cell_type": "code",
   "execution_count": 126,
   "id": "7ff9cc89",
   "metadata": {
    "id": "7ff9cc89"
   },
   "outputs": [],
   "source": [
    "# filling N/A value with medium of spending column\n",
    "df.fillna(df['SPENDING'].median(),inplace=True)"
   ]
  },
  {
   "cell_type": "code",
   "execution_count": 127,
   "id": "fEhrq3WbwZL7",
   "metadata": {
    "colab": {
     "base_uri": "https://localhost:8080/"
    },
    "id": "fEhrq3WbwZL7",
    "outputId": "53724e0b-ec23-406d-f49b-e07bc6c99fbd"
   },
   "outputs": [
    {
     "data": {
      "text/plain": [
       "8333.25"
      ]
     },
     "execution_count": 127,
     "metadata": {},
     "output_type": "execute_result"
    }
   ],
   "source": [
    "# checking the maximum value of income features\n",
    "df['INCOME'].max()"
   ]
  },
  {
   "cell_type": "code",
   "execution_count": 128,
   "id": "pUspmB-rQmSO",
   "metadata": {
    "colab": {
     "base_uri": "https://localhost:8080/"
    },
    "id": "pUspmB-rQmSO",
    "outputId": "4180917b-45dc-4b08-ba8f-5706aa883d27"
   },
   "outputs": [
    {
     "data": {
      "text/plain": [
       "50.0"
      ]
     },
     "execution_count": 128,
     "metadata": {},
     "output_type": "execute_result"
    }
   ],
   "source": [
    "# checking the minmum value of income features\n",
    "df['INCOME'].min()"
   ]
  },
  {
   "cell_type": "code",
   "execution_count": 129,
   "id": "dMBm0VSuQmKG",
   "metadata": {
    "id": "dMBm0VSuQmKG"
   },
   "outputs": [
    {
     "data": {
      "text/plain": [
       "<AxesSubplot:xlabel='INC_group', ylabel='count'>"
      ]
     },
     "execution_count": 129,
     "metadata": {},
     "output_type": "execute_result"
    },
    {
     "data": {
      "image/png": "[encoded data removed]",
      "text/plain": [
       "<Figure size 432x288 with 1 Axes>"
      ]
     },
     "metadata": {
      "needs_background": "light"
     },
     "output_type": "display_data"
    }
   ],
   "source": [
    "# plot the range of income which are defaulter or not\n",
    "bins = [-1, 2500, 5000, 7500,10000]\n",
    "labels=['0-2500','2500-5000','5000 - 75000', '7500-10000']\n",
    "df['INC_group'] = pd.cut(df['INCOME'], bins=4, labels = labels)\n",
    "sns.countplot(x = 'INC_group', hue ='DEFAULT', data = df)"
   ]
  },
  {
   "cell_type": "code",
   "execution_count": 130,
   "id": "YBKzLX07TU8L",
   "metadata": {
    "id": "YBKzLX07TU8L"
   },
   "outputs": [
    {
     "data": {
      "text/plain": [
       "<AxesSubplot:xlabel='AGE_group', ylabel='count'>"
      ]
     },
     "execution_count": 130,
     "metadata": {},
     "output_type": "execute_result"
    },
    {
     "data": {
      "image/png": "[encoded data removed]",
      "text/plain": [
       "<Figure size 432x288 with 1 Axes>"
      ]
     },
     "metadata": {
      "needs_background": "light"
     },
     "output_type": "display_data"
    }
   ],
   "source": [
    "# plot the range of age which are defaulter or not\n",
    "bins = [-1, 25, 50, 75,100]\n",
    "labels=['0-25','25-50','50 - 75', '75+', ]\n",
    "df['AGE_group'] = pd.cut(df['AGE'], bins=bins, labels = labels)\n",
    "sns.countplot(x = 'AGE_group', hue ='DEFAULT', data = df)"
   ]
  },
  {
   "cell_type": "code",
   "execution_count": 131,
   "id": "4a9494b5",
   "metadata": {
    "id": "4a9494b5"
   },
   "outputs": [],
   "source": [
    "# finding the log of spending column\n",
    "df['SPENDING']=np.log(df['SPENDING'])"
   ]
  },
  {
   "cell_type": "code",
   "execution_count": 132,
   "id": "9b0c341f",
   "metadata": {
    "colab": {
     "base_uri": "https://localhost:8080/",
     "height": 387
    },
    "id": "9b0c341f",
    "outputId": "88aad559-fddf-4301-a9be-d8032dec81c5"
   },
   "outputs": [
    {
     "data": {
      "text/plain": [
       "<seaborn.axisgrid.FacetGrid at 0x224e5e2bee0>"
      ]
     },
     "execution_count": 132,
     "metadata": {},
     "output_type": "execute_result"
    },
    {
     "data": {
      "image/png": "[encoded data removed]",
      "text/plain": [
       "<Figure size 360x360 with 1 Axes>"
      ]
     },
     "metadata": {
      "needs_background": "light"
     },
     "output_type": "display_data"
    }
   ],
   "source": [
    "# distribution plot of spending (\"It shows normal distribution\")\n",
    "sns.displot(df['SPENDING'])"
   ]
  },
  {
   "cell_type": "code",
   "execution_count": 133,
   "id": "38520b2c",
   "metadata": {
    "colab": {
     "base_uri": "https://localhost:8080/"
    },
    "id": "38520b2c",
    "outputId": "26afa1dd-f4bb-4f5c-86de-dab28fe03b01"
   },
   "outputs": [
    {
     "data": {
      "text/plain": [
       "CARDHLDR     0\n",
       "DEFAULT      0\n",
       "AGE          0\n",
       "ACADMOS      0\n",
       "ADEPCNT      0\n",
       "MAJORDRG     0\n",
       "MINORDRG     0\n",
       "OWNRENT      0\n",
       "INCOME       0\n",
       "SELFEMPL     0\n",
       "INCPER       0\n",
       "EXP_INC      0\n",
       "SPENDING     0\n",
       "INC_group    0\n",
       "AGE_group    0\n",
       "dtype: int64"
      ]
     },
     "execution_count": 133,
     "metadata": {},
     "output_type": "execute_result"
    }
   ],
   "source": [
    "df.isnull().sum()"
   ]
  },
  {
   "cell_type": "code",
   "execution_count": 134,
   "id": "1b35f982",
   "metadata": {
    "id": "1b35f982"
   },
   "outputs": [],
   "source": [
    "# extracted feature columns and target column\n",
    "X=df[['CARDHLDR', 'AGE', 'ACADMOS', 'ADEPCNT', 'MAJORDRG',\n",
    "       'MINORDRG', 'OWNRENT', 'INCOME', 'SELFEMPL', 'INCPER', 'EXP_INC',\n",
    "       'SPENDING']]\n",
    "y=df['DEFAULT']"
   ]
  },
  {
   "cell_type": "code",
   "execution_count": 135,
   "id": "332e7030",
   "metadata": {
    "id": "332e7030"
   },
   "outputs": [],
   "source": [
    "# perform undersampling (due to imbalanced data)\n",
    "undersample = NearMiss(version=1,n_neighbors=3)\n",
    "X, y = undersample.fit_resample(X, y)"
   ]
  },
  {
   "cell_type": "code",
   "execution_count": 136,
   "id": "QSjUfP4eClnN",
   "metadata": {
    "colab": {
     "base_uri": "https://localhost:8080/"
    },
    "id": "QSjUfP4eClnN",
    "outputId": "4ebac886-e7fd-4f55-df4d-c5ce87d99f6e"
   },
   "outputs": [
    {
     "data": {
      "text/plain": [
       "(1992, 12)"
      ]
     },
     "execution_count": 136,
     "metadata": {},
     "output_type": "execute_result"
    }
   ],
   "source": [
    "X.shape"
   ]
  },
  {
   "cell_type": "code",
   "execution_count": 39,
   "id": "6cf9c489",
   "metadata": {
    "id": "6cf9c489"
   },
   "outputs": [],
   "source": [
    "# split the dataset into test and train  train:test=70:30 \n",
    "X_train, X_test, y_train, y_test = train_test_split(X, y, test_size=0.33, random_state=20)"
   ]
  },
  {
   "cell_type": "code",
   "execution_count": 137,
   "id": "a28c7e6b",
   "metadata": {
    "id": "a28c7e6b"
   },
   "outputs": [],
   "source": [
    "# Standardize features by removing the mean and scaling to unit variance.\n",
    "scaler = StandardScaler()\n",
    "X_train=scaler.fit_transform(X_train)\n",
    "X_test=scaler.transform(X_test)"
   ]
  },
  {
   "cell_type": "code",
   "execution_count": 138,
   "id": "ee6a8db8",
   "metadata": {
    "colab": {
     "base_uri": "https://localhost:8080/"
    },
    "id": "ee6a8db8",
    "outputId": "5f7e598d-cfd1-483c-c1e6-457d1995cf97"
   },
   "outputs": [
    {
     "data": {
      "text/plain": [
       "(1334, 12)"
      ]
     },
     "execution_count": 138,
     "metadata": {},
     "output_type": "execute_result"
    }
   ],
   "source": [
    "# shows number of record in our training data\n",
    "X_train.shape"
   ]
  },
  {
   "cell_type": "code",
   "execution_count": 139,
   "id": "5a083df7",
   "metadata": {},
   "outputs": [],
   "source": [
    "# print confusion matrix and calculate accuracy rate\n",
    "def print_performance(pred,actual):\n",
    "    actual_array = np.array(actual)\n",
    "    unique_label = np.unique([actual, pred])\n",
    "    cf = pd.DataFrame(\n",
    "        confusion_matrix(actual_array, pred, labels=unique_label), \n",
    "        index=['Actual:{:}'.format(x) for x in unique_label], \n",
    "        columns=['Pred:{:}'.format(x) for x in unique_label]\n",
    "    )\n",
    "    sns.heatmap(cf, annot = True, cmap = 'YlGnBu', fmt = '.8g')\n",
    "    plt.show()\n",
    "    print(cf)\n",
    "    print('Percent of defaulters correctly predicted: ', cf['Pred:1'][1]/(cf['Pred:0'][1] +cf['Pred:1'][1])*100)\n",
    "    print('Percent of non-defaulters correctly predicted: ', cf['Pred:0'][0]/(cf['Pred:0'][0] +cf['Pred:1'][0])*100)"
   ]
  },
  {
   "cell_type": "code",
   "execution_count": 141,
   "id": "96e0f071",
   "metadata": {
    "id": "96e0f071"
   },
   "outputs": [
    {
     "data": {
      "image/png": "[encoded data removed]",
      "text/plain": [
       "<Figure size 432x288 with 2 Axes>"
      ]
     },
     "metadata": {
      "needs_background": "light"
     },
     "output_type": "display_data"
    },
    {
     "name": "stdout",
     "output_type": "stream",
     "text": [
      "          Pred:0  Pred:1\n",
      "Actual:0     320      29\n",
      "Actual:1      75     234\n",
      "Percent of defaulters correctly predicted:  75.72815533980582\n",
      "Percent of non-defaulters correctly predicted:  91.69054441260745\n",
      "Accuracy of the test set:  0.8419452887537994\n"
     ]
    }
   ],
   "source": [
    "# Logistic Regression\n",
    "from sklearn.linear_model import LogisticRegression\n",
    "\n",
    "clf = LogisticRegression(solver='lbfgs', C = 10, max_iter = 50, penalty='l2')\n",
    "clf.fit(X_train,y_train)\n",
    "y_pred=clf.predict(X_test)\n",
    "print_performance(y_pred, y_test)\n",
    "print(\"Accuracy of the test set: \", accuracy_score(y_test, y_pred))"
   ]
  },
  {
   "cell_type": "code",
   "execution_count": 142,
   "id": "179a34c8",
   "metadata": {
    "colab": {
     "base_uri": "https://localhost:8080/"
    },
    "id": "179a34c8",
    "outputId": "02a2f336-8e8b-42f0-8dc7-0260dae7169a"
   },
   "outputs": [
    {
     "name": "stdout",
     "output_type": "stream",
     "text": [
      "                 precision    recall  f1-score   support\n",
      "\n",
      "   Defaulted :0       0.81      0.92      0.86       349\n",
      "Not Defaulted:0       0.89      0.76      0.82       309\n",
      "\n",
      "       accuracy                           0.84       658\n",
      "      macro avg       0.85      0.84      0.84       658\n",
      "   weighted avg       0.85      0.84      0.84       658\n",
      "\n"
     ]
    }
   ],
   "source": [
    "# It shows the classification report \n",
    "print(classification_report(y_test,y_pred,target_names = ['Defaulted :0', 'Not Defaulted:0']))"
   ]
  },
  {
   "cell_type": "code",
   "execution_count": 143,
   "id": "9eb4aa1c",
   "metadata": {
    "colab": {
     "base_uri": "https://localhost:8080/"
    },
    "id": "9eb4aa1c",
    "outputId": "2fbe8fd2-ba79-4359-e1c2-9ae6442ca471"
   },
   "outputs": [
    {
     "data": {
      "image/png": "[encoded data removed]",
      "text/plain": [
       "<Figure size 432x288 with 2 Axes>"
      ]
     },
     "metadata": {
      "needs_background": "light"
     },
     "output_type": "display_data"
    },
    {
     "name": "stdout",
     "output_type": "stream",
     "text": [
      "          Pred:0  Pred:1\n",
      "Actual:0     320      29\n",
      "Actual:1      86     223\n",
      "Percent of defaulters correctly predicted:  72.168284789644\n",
      "Percent of non-defaulters correctly predicted:  91.69054441260745\n",
      "Accuracy of the test set:  0.8252279635258358\n"
     ]
    }
   ],
   "source": [
    "# KNN implementation\n",
    "from sklearn.neighbors import KNeighborsClassifier\n",
    "\n",
    "neigh = KNeighborsClassifier(n_neighbors=5, algorithm = 'brute')\n",
    "neigh.fit(X_train,y_train)\n",
    "y_pred1=neigh.predict(X_test)\n",
    "print_performance(y_pred1, y_test)\n",
    "print(\"Accuracy of the test set: \", accuracy_score(y_test, y_pred1))  "
   ]
  },
  {
   "cell_type": "code",
   "execution_count": 144,
   "id": "qmnI-unBXLzf",
   "metadata": {
    "colab": {
     "base_uri": "https://localhost:8080/",
     "height": 295
    },
    "id": "qmnI-unBXLzf",
    "outputId": "723747bb-c7a5-418d-8a5c-dd65fb01213f"
   },
   "outputs": [
    {
     "data": {
      "image/png": "[encoded data removed]",
      "text/plain": [
       "<Figure size 432x288 with 1 Axes>"
      ]
     },
     "metadata": {
      "needs_background": "light"
     },
     "output_type": "display_data"
    }
   ],
   "source": [
    "# Plotting graph for varying error rate for k value\n",
    "\n",
    "train_error = []\n",
    "test_error = []\n",
    "for k in range(1,11):\n",
    "    knn_graph= KNeighborsClassifier(n_neighbors=k)\n",
    "    knn_graph.fit(X_train,y_train)\n",
    "    temp1 = knn_graph.predict(X_train)\n",
    "    train_error.append(np.mean(y_train != temp1))\n",
    "    temp2 = knn_graph.predict(X_test)\n",
    "    test_error.append(np.mean(y_test != temp2))\n",
    "\n",
    "\n",
    "plt.plot(train_error,'r-',label=\"Train Error\")\n",
    "plt.plot(test_error,'b-',label=\"Test Error \")\n",
    "plt.xlabel('K values')\n",
    "plt.ylabel('Error Rate')\n",
    "plt.title(' Plot of K values vs Error Rate (Train and Test Set)')\n",
    "plt.legend()\n",
    "plt.show()"
   ]
  },
  {
   "cell_type": "code",
   "execution_count": 145,
   "id": "7c5c2609",
   "metadata": {
    "colab": {
     "base_uri": "https://localhost:8080/",
     "height": 372
    },
    "id": "7c5c2609",
    "outputId": "dc4356f8-36c3-4d35-fa06-687694ce5809"
   },
   "outputs": [
    {
     "data": {
      "image/png": "[encoded data removed]",
      "text/plain": [
       "<Figure size 432x288 with 2 Axes>"
      ]
     },
     "metadata": {
      "needs_background": "light"
     },
     "output_type": "display_data"
    },
    {
     "name": "stdout",
     "output_type": "stream",
     "text": [
      "          Pred:0  Pred:1\n",
      "Actual:0     328      21\n",
      "Actual:1      68     241\n",
      "Percent of defaulters correctly predicted:  77.99352750809061\n",
      "Percent of non-defaulters correctly predicted:  93.98280802292264\n",
      "Accuracy of the test set:  0.8647416413373861\n"
     ]
    }
   ],
   "source": [
    "# Implementation of Random Forest with criterion- Entropy\n",
    "from sklearn.ensemble import RandomForestClassifier\n",
    "\n",
    "clf = RandomForestClassifier(max_depth=5, random_state=25, n_estimators= 700, criterion='entropy')\n",
    "clf.fit(X_train,y_train)\n",
    "y_pred2=clf.predict(X_test)\n",
    "accuracy_score(y_test, y_pred2)\n",
    "print_performance(y_pred2, y_test)\n",
    "print(\"Accuracy of the test set: \", accuracy_score(y_test, y_pred2))  "
   ]
  },
  {
   "cell_type": "code",
   "execution_count": 146,
   "id": "56d31175",
   "metadata": {
    "colab": {
     "base_uri": "https://localhost:8080/",
     "height": 372
    },
    "id": "56d31175",
    "outputId": "232d15d4-1374-4942-c687-c15c7ff9ebc1"
   },
   "outputs": [
    {
     "data": {
      "image/png": "[encoded data removed]",
      "text/plain": [
       "<Figure size 432x288 with 2 Axes>"
      ]
     },
     "metadata": {
      "needs_background": "light"
     },
     "output_type": "display_data"
    },
    {
     "name": "stdout",
     "output_type": "stream",
     "text": [
      "          Pred:0  Pred:1\n",
      "Actual:0     323      26\n",
      "Actual:1      61     248\n",
      "Percent of defaulters correctly predicted:  80.2588996763754\n",
      "Percent of non-defaulters correctly predicted:  92.55014326647564\n",
      "Accuracy of the test set:  0.8677811550151976\n"
     ]
    }
   ],
   "source": [
    "# Implementation of Random Forest with criterion - gini\n",
    "from sklearn.ensemble import RandomForestClassifier\n",
    "\n",
    "forest = RandomForestClassifier(n_estimators=22, max_depth=7, criterion=\"gini\")\n",
    "forest.fit(X_train, y_train)\n",
    "y_test_pred_forest = forest.predict(X_test)\n",
    "print_performance(y_test_pred_forest, y_test)\n",
    "print(\"Accuracy of the test set: \", accuracy_score(y_test, y_test_pred_forest))  "
   ]
  },
  {
   "cell_type": "code",
   "execution_count": 147,
   "id": "3928225d",
   "metadata": {
    "id": "3928225d"
   },
   "outputs": [
    {
     "name": "stdout",
     "output_type": "stream",
     "text": [
      "Fitting 10 folds for each of 96 candidates, totalling 960 fits\n"
     ]
    },
    {
     "data": {
      "text/plain": [
       "GridSearchCV(cv=10,\n",
       "             estimator=XGBClassifier(base_score=None, booster=None,\n",
       "                                     callbacks=None, colsample_bylevel=None,\n",
       "                                     colsample_bynode=None,\n",
       "                                     colsample_bytree=None,\n",
       "                                     early_stopping_rounds=None,\n",
       "                                     enable_categorical=False, eval_metric=None,\n",
       "                                     gamma=None, gpu_id=None, grow_policy=None,\n",
       "                                     importance_type=None,\n",
       "                                     interaction_constraints=None,\n",
       "                                     learning_rate=None, max_bin=None,\n",
       "                                     max_c...\n",
       "                                     max_delta_step=None, max_depth=None,\n",
       "                                     max_leaves=None, min_child_weight=None,\n",
       "                                     missing=nan, monotone_constraints=None,\n",
       "                                     n_estimators=100, n_jobs=None, nthread=4,\n",
       "                                     num_parallel_tree=None, predictor=None,\n",
       "                                     random_state=None, reg_alpha=None, ...),\n",
       "             n_jobs=10,\n",
       "             param_grid={'learning_rate': [0.1, 0.01, 0.05],\n",
       "                         'max_depth': range(2, 10),\n",
       "                         'n_estimators': range(60, 220, 40)},\n",
       "             scoring='roc_auc', verbose=True)"
      ]
     },
     "execution_count": 147,
     "metadata": {},
     "output_type": "execute_result"
    }
   ],
   "source": [
    "# implementing XGBoost Classifier and performing grid search cv\n",
    "from xgboost.sklearn import XGBClassifier\n",
    "from sklearn.model_selection import GridSearchCV\n",
    "\n",
    "estimator = XGBClassifier(objective= 'binary:logistic',nthread=4,seed=42)\n",
    "parameters = {'max_depth': range (2, 10, 1),'n_estimators': range(60, 220, 40),'learning_rate': [0.1, 0.01, 0.05]}\n",
    "grid_search = GridSearchCV(estimator=estimator,param_grid=parameters,scoring = 'roc_auc',n_jobs = 10,cv = 10,verbose=True)\n",
    "grid_search.fit(X_train, y_train)"
   ]
  },
  {
   "cell_type": "code",
   "execution_count": 148,
   "id": "8ab7d5c0",
   "metadata": {
    "id": "8ab7d5c0"
   },
   "outputs": [
    {
     "data": {
      "text/plain": [
       "XGBClassifier(base_score=0.5, booster='gbtree', callbacks=None,\n",
       "              colsample_bylevel=1, colsample_bynode=1, colsample_bytree=1,\n",
       "              early_stopping_rounds=None, enable_categorical=False,\n",
       "              eval_metric=None, gamma=0, gpu_id=-1, grow_policy='depthwise',\n",
       "              importance_type=None, interaction_constraints='',\n",
       "              learning_rate=0.1, max_bin=256, max_cat_to_onehot=4,\n",
       "              max_delta_step=0, max_depth=3, max_leaves=0, min_child_weight=1,\n",
       "              missing=nan, monotone_constraints='()', n_estimators=140,\n",
       "              n_jobs=4, nthread=4, num_parallel_tree=1, predictor='auto',\n",
       "              random_state=42, reg_alpha=0, ...)"
      ]
     },
     "execution_count": 148,
     "metadata": {},
     "output_type": "execute_result"
    }
   ],
   "source": [
    "# best parameters by GridSearch CV\n",
    "grid_search.best_estimator_"
   ]
  },
  {
   "cell_type": "code",
   "execution_count": 149,
   "id": "2beb8b11",
   "metadata": {
    "id": "2beb8b11"
   },
   "outputs": [
    {
     "data": {
      "image/png": "[encoded data removed]",
      "text/plain": [
       "<Figure size 432x288 with 2 Axes>"
      ]
     },
     "metadata": {
      "needs_background": "light"
     },
     "output_type": "display_data"
    },
    {
     "name": "stdout",
     "output_type": "stream",
     "text": [
      "          Pred:0  Pred:1\n",
      "Actual:0     321      28\n",
      "Actual:1      51     258\n",
      "Percent of defaulters correctly predicted:  83.49514563106796\n",
      "Percent of non-defaulters correctly predicted:  91.97707736389685\n",
      "Accuracy of the test set:  0.8799392097264438\n"
     ]
    }
   ],
   "source": [
    "y_pred3=grid_search.best_estimator_.predict(X_test)\n",
    "accuracy_score(y_test, y_pred3)\n",
    "print_performance(y_pred3, y_test)\n",
    "print(\"Accuracy of the test set: \", accuracy_score(y_test, y_pred3))"
   ]
  },
  {
   "cell_type": "code",
   "execution_count": 150,
   "id": "a15e1de3",
   "metadata": {
    "id": "a15e1de3"
   },
   "outputs": [
    {
     "name": "stdout",
     "output_type": "stream",
     "text": [
      "Epoch 1/50\n",
      "267/267 [==============================] - 7s 8ms/step - loss: 0.6360 - accuracy: 0.6372 - val_loss: 0.5780 - val_accuracy: 0.7477\n",
      "Epoch 2/50\n",
      "267/267 [==============================] - 1s 4ms/step - loss: 0.5191 - accuracy: 0.7774 - val_loss: 0.4686 - val_accuracy: 0.8040\n",
      "Epoch 3/50\n",
      "267/267 [==============================] - 1s 3ms/step - loss: 0.4485 - accuracy: 0.7969 - val_loss: 0.4143 - val_accuracy: 0.8085\n",
      "Epoch 4/50\n",
      "267/267 [==============================] - 1s 4ms/step - loss: 0.4160 - accuracy: 0.8058 - val_loss: 0.3912 - val_accuracy: 0.8222\n",
      "Epoch 5/50\n",
      "267/267 [==============================] - 1s 3ms/step - loss: 0.3967 - accuracy: 0.8178 - val_loss: 0.3823 - val_accuracy: 0.8389\n",
      "Epoch 6/50\n",
      "267/267 [==============================] - 1s 3ms/step - loss: 0.3843 - accuracy: 0.8223 - val_loss: 0.3612 - val_accuracy: 0.8359\n",
      "Epoch 7/50\n",
      "267/267 [==============================] - 1s 3ms/step - loss: 0.3731 - accuracy: 0.8313 - val_loss: 0.3580 - val_accuracy: 0.8450\n",
      "Epoch 8/50\n",
      "267/267 [==============================] - 1s 3ms/step - loss: 0.3649 - accuracy: 0.8321 - val_loss: 0.3446 - val_accuracy: 0.8404\n",
      "Epoch 9/50\n",
      "267/267 [==============================] - 1s 3ms/step - loss: 0.3555 - accuracy: 0.8418 - val_loss: 0.3392 - val_accuracy: 0.8419\n",
      "Epoch 10/50\n",
      "267/267 [==============================] - 1s 3ms/step - loss: 0.3501 - accuracy: 0.8448 - val_loss: 0.3350 - val_accuracy: 0.8465\n",
      "Epoch 11/50\n",
      "267/267 [==============================] - 1s 4ms/step - loss: 0.3441 - accuracy: 0.8456 - val_loss: 0.3284 - val_accuracy: 0.8526\n",
      "Epoch 12/50\n",
      "267/267 [==============================] - 1s 3ms/step - loss: 0.3381 - accuracy: 0.8493 - val_loss: 0.3293 - val_accuracy: 0.8526\n",
      "Epoch 13/50\n",
      "267/267 [==============================] - 1s 3ms/step - loss: 0.3329 - accuracy: 0.8418 - val_loss: 0.3251 - val_accuracy: 0.8587\n",
      "Epoch 14/50\n",
      "267/267 [==============================] - 1s 3ms/step - loss: 0.3267 - accuracy: 0.8606 - val_loss: 0.3292 - val_accuracy: 0.8678\n",
      "Epoch 15/50\n",
      "267/267 [==============================] - 1s 3ms/step - loss: 0.3235 - accuracy: 0.8658 - val_loss: 0.3161 - val_accuracy: 0.8663\n",
      "Epoch 16/50\n",
      "267/267 [==============================] - 1s 3ms/step - loss: 0.3206 - accuracy: 0.8591 - val_loss: 0.3180 - val_accuracy: 0.8602\n",
      "Epoch 17/50\n",
      "267/267 [==============================] - 1s 3ms/step - loss: 0.3150 - accuracy: 0.8666 - val_loss: 0.3216 - val_accuracy: 0.8571\n",
      "Epoch 18/50\n",
      "267/267 [==============================] - 1s 3ms/step - loss: 0.3137 - accuracy: 0.8561 - val_loss: 0.3164 - val_accuracy: 0.8663\n",
      "Epoch 19/50\n",
      "267/267 [==============================] - 1s 3ms/step - loss: 0.3118 - accuracy: 0.8628 - val_loss: 0.3131 - val_accuracy: 0.8647\n",
      "Epoch 20/50\n",
      "267/267 [==============================] - 1s 3ms/step - loss: 0.3084 - accuracy: 0.8621 - val_loss: 0.3084 - val_accuracy: 0.8663\n",
      "Epoch 21/50\n",
      "267/267 [==============================] - 1s 3ms/step - loss: 0.3062 - accuracy: 0.8673 - val_loss: 0.3082 - val_accuracy: 0.8739\n",
      "Epoch 22/50\n",
      "267/267 [==============================] - 1s 3ms/step - loss: 0.3035 - accuracy: 0.8688 - val_loss: 0.3098 - val_accuracy: 0.8617\n",
      "Epoch 23/50\n",
      "267/267 [==============================] - 1s 3ms/step - loss: 0.3030 - accuracy: 0.8658 - val_loss: 0.3158 - val_accuracy: 0.8708\n",
      "Epoch 24/50\n",
      "267/267 [==============================] - 1s 3ms/step - loss: 0.2999 - accuracy: 0.8696 - val_loss: 0.3118 - val_accuracy: 0.8602\n",
      "Epoch 25/50\n",
      "267/267 [==============================] - 1s 3ms/step - loss: 0.2986 - accuracy: 0.8718 - val_loss: 0.3102 - val_accuracy: 0.8678\n",
      "Epoch 26/50\n",
      "267/267 [==============================] - 1s 4ms/step - loss: 0.2971 - accuracy: 0.8666 - val_loss: 0.3127 - val_accuracy: 0.8739\n",
      "Epoch 27/50\n",
      "267/267 [==============================] - 1s 4ms/step - loss: 0.2966 - accuracy: 0.8696 - val_loss: 0.3139 - val_accuracy: 0.8632\n",
      "Epoch 28/50\n",
      "267/267 [==============================] - 1s 3ms/step - loss: 0.2965 - accuracy: 0.8718 - val_loss: 0.3085 - val_accuracy: 0.8663\n",
      "Epoch 29/50\n",
      "267/267 [==============================] - 1s 3ms/step - loss: 0.2937 - accuracy: 0.8681 - val_loss: 0.3080 - val_accuracy: 0.8663\n",
      "Epoch 30/50\n",
      "267/267 [==============================] - 1s 3ms/step - loss: 0.2942 - accuracy: 0.8688 - val_loss: 0.3122 - val_accuracy: 0.8678\n",
      "Epoch 31/50\n",
      "267/267 [==============================] - 1s 3ms/step - loss: 0.2913 - accuracy: 0.8733 - val_loss: 0.3131 - val_accuracy: 0.8693\n",
      "Epoch 32/50\n",
      "267/267 [==============================] - 1s 3ms/step - loss: 0.2924 - accuracy: 0.8681 - val_loss: 0.3092 - val_accuracy: 0.8693\n",
      "Epoch 33/50\n",
      "267/267 [==============================] - 1s 3ms/step - loss: 0.2909 - accuracy: 0.8696 - val_loss: 0.3108 - val_accuracy: 0.8708\n",
      "Epoch 34/50\n",
      "267/267 [==============================] - 1s 3ms/step - loss: 0.2908 - accuracy: 0.8718 - val_loss: 0.3062 - val_accuracy: 0.8678\n",
      "Epoch 35/50\n",
      "267/267 [==============================] - 1s 3ms/step - loss: 0.2880 - accuracy: 0.8763 - val_loss: 0.3098 - val_accuracy: 0.8693\n",
      "Epoch 36/50\n",
      "267/267 [==============================] - 1s 3ms/step - loss: 0.2892 - accuracy: 0.8703 - val_loss: 0.3073 - val_accuracy: 0.8678\n",
      "Epoch 37/50\n",
      "267/267 [==============================] - 1s 3ms/step - loss: 0.2867 - accuracy: 0.8718 - val_loss: 0.3064 - val_accuracy: 0.8769\n",
      "Epoch 38/50\n",
      "267/267 [==============================] - 1s 3ms/step - loss: 0.2876 - accuracy: 0.8778 - val_loss: 0.3101 - val_accuracy: 0.8663\n",
      "Epoch 39/50\n",
      "267/267 [==============================] - 1s 3ms/step - loss: 0.2868 - accuracy: 0.8748 - val_loss: 0.3091 - val_accuracy: 0.8632\n",
      "Epoch 40/50\n",
      "267/267 [==============================] - 1s 3ms/step - loss: 0.2842 - accuracy: 0.8793 - val_loss: 0.3142 - val_accuracy: 0.8663\n",
      "Epoch 41/50\n",
      "267/267 [==============================] - 1s 3ms/step - loss: 0.2854 - accuracy: 0.8741 - val_loss: 0.3097 - val_accuracy: 0.8754\n",
      "Epoch 42/50\n",
      "267/267 [==============================] - 1s 3ms/step - loss: 0.2819 - accuracy: 0.8733 - val_loss: 0.3133 - val_accuracy: 0.8693\n",
      "Epoch 43/50\n",
      "267/267 [==============================] - 1s 3ms/step - loss: 0.2828 - accuracy: 0.8703 - val_loss: 0.3108 - val_accuracy: 0.8708\n",
      "Epoch 44/50\n",
      "267/267 [==============================] - 1s 3ms/step - loss: 0.2827 - accuracy: 0.8816 - val_loss: 0.3126 - val_accuracy: 0.8647\n",
      "Epoch 45/50\n",
      "267/267 [==============================] - 1s 3ms/step - loss: 0.2804 - accuracy: 0.8771 - val_loss: 0.3129 - val_accuracy: 0.8693\n",
      "Epoch 46/50\n",
      "267/267 [==============================] - 1s 3ms/step - loss: 0.2798 - accuracy: 0.8733 - val_loss: 0.3074 - val_accuracy: 0.8723\n",
      "Epoch 47/50\n",
      "267/267 [==============================] - 1s 3ms/step - loss: 0.2784 - accuracy: 0.8793 - val_loss: 0.3131 - val_accuracy: 0.8647\n",
      "Epoch 48/50\n",
      "267/267 [==============================] - 1s 3ms/step - loss: 0.2777 - accuracy: 0.8808 - val_loss: 0.3100 - val_accuracy: 0.8784\n",
      "Epoch 49/50\n",
      "267/267 [==============================] - 1s 3ms/step - loss: 0.2784 - accuracy: 0.8778 - val_loss: 0.3157 - val_accuracy: 0.8678\n",
      "Epoch 50/50\n",
      "267/267 [==============================] - 1s 3ms/step - loss: 0.2771 - accuracy: 0.8786 - val_loss: 0.3229 - val_accuracy: 0.8663\n"
     ]
    }
   ],
   "source": [
    "# Implementing Artificial Neural Network(ANN)\n",
    "import tensorflow as tf\n",
    "from tensorflow import keras\n",
    "\n",
    "model=keras.Sequential([\n",
    "      keras.layers.Dense(10,input_dim=12,activation='relu'),\n",
    "      keras.layers.Dense(8,activation='relu'),\n",
    "      keras.layers.Dense(5,activation='relu'),\n",
    "      keras.layers.Dense(1,activation='sigmoid')\n",
    "])\n",
    "model.compile(optimizer='adam',loss='binary_crossentropy',metrics=['accuracy'])\n",
    "history = model.fit(X_train,y_train,epochs=50,batch_size=5, validation_data=(X_test,y_test))"
   ]
  },
  {
   "cell_type": "code",
   "execution_count": 152,
   "id": "542cb585",
   "metadata": {
    "id": "542cb585"
   },
   "outputs": [
    {
     "name": "stdout",
     "output_type": "stream",
     "text": [
      "21/21 [==============================] - 0s 3ms/step - loss: 0.3229 - accuracy: 0.8663\n"
     ]
    },
    {
     "data": {
      "image/png": "[encoded data removed]",
      "text/plain": [
       "<Figure size 432x288 with 2 Axes>"
      ]
     },
     "metadata": {
      "needs_background": "light"
     },
     "output_type": "display_data"
    },
    {
     "name": "stdout",
     "output_type": "stream",
     "text": [
      "          Pred:0  Pred:1\n",
      "Actual:0     307      42\n",
      "Actual:1      46     263\n",
      "Percent of defaulters correctly predicted:  85.11326860841424\n",
      "Percent of non-defaulters correctly predicted:  87.96561604584528\n",
      "Accuracy of the test set:  0.8662613981762918\n"
     ]
    }
   ],
   "source": [
    "model.evaluate(X_test,y_test)\n",
    "y_predict =predictions = (model.predict(X_test) > 0.5).astype(\"int32\")\n",
    "y_predict_flatten = [item for sublist in y_predict for item in sublist]\n",
    "print_performance(y_predict_flatten, y_test)\n",
    "print(\"Accuracy of the test set: \", accuracy_score(y_test, y_predict_flatten))"
   ]
  },
  {
   "cell_type": "code",
   "execution_count": 153,
   "id": "jr844dmFkWAj",
   "metadata": {
    "id": "jr844dmFkWAj"
   },
   "outputs": [
    {
     "name": "stdout",
     "output_type": "stream",
     "text": [
      "dict_keys(['loss', 'accuracy', 'val_loss', 'val_accuracy'])\n"
     ]
    }
   ],
   "source": [
    "print(history.history.keys())"
   ]
  },
  {
   "cell_type": "code",
   "execution_count": 154,
   "id": "GDaPI_qygx7_",
   "metadata": {
    "id": "GDaPI_qygx7_"
   },
   "outputs": [
    {
     "data": {
      "image/png": "[encoded data removed]",
      "text/plain": [
       "<Figure size 432x288 with 1 Axes>"
      ]
     },
     "metadata": {
      "needs_background": "light"
     },
     "output_type": "display_data"
    }
   ],
   "source": [
    "# summarize history for accuracy\n",
    "plt.plot(history.history['accuracy'], 'r-',label=\"Train Accuracy\")\n",
    "plt.plot(history.history['val_accuracy'], 'b-',label=\"Test Accuracy\")\n",
    "plt.title('Model Accuracy')\n",
    "plt.ylabel('Accuracy')\n",
    "plt.xlabel('Number of Epoch')\n",
    "plt.legend()\n",
    "plt.show()"
   ]
  },
  {
   "cell_type": "code",
   "execution_count": 155,
   "id": "c42bcb88",
   "metadata": {
    "id": "c42bcb88"
   },
   "outputs": [
    {
     "data": {
      "image/png": "[encoded data removed]",
      "text/plain": [
       "<Figure size 432x288 with 2 Axes>"
      ]
     },
     "metadata": {
      "needs_background": "light"
     },
     "output_type": "display_data"
    },
    {
     "name": "stdout",
     "output_type": "stream",
     "text": [
      "          Pred:0  Pred:1\n",
      "Actual:0     317      32\n",
      "Actual:1      56     253\n",
      "Percent of defaulters correctly predicted:  81.87702265372168\n",
      "Percent of non-defaulters correctly predicted:  90.83094555873924\n",
      "Accuracy of the test set:  0.8662613981762918\n"
     ]
    }
   ],
   "source": [
    "# Implementaion of Adaptive Boosting\n",
    "from sklearn.ensemble import AdaBoostClassifier\n",
    "\n",
    "adaboost_model = AdaBoostClassifier(n_estimators=1250, learning_rate=0.45, algorithm = 'SAMME.R', random_state=50 )\n",
    "adaboost_model.fit(X_train, y_train)\n",
    "y_pred_ada = adaboost_model.predict(X_test)\n",
    "accuracy_score(y_test, y_pred_ada)\n",
    "print_performance(y_pred_ada, y_test)\n",
    "print(\"Accuracy of the test set: \", accuracy_score(y_test, y_pred_ada))"
   ]
  },
  {
   "cell_type": "code",
   "execution_count": 156,
   "id": "3ca22f96",
   "metadata": {
    "id": "3ca22f96"
   },
   "outputs": [
    {
     "data": {
      "text/plain": [
       "Text(0, 0.5, 'Models')"
      ]
     },
     "execution_count": 156,
     "metadata": {},
     "output_type": "execute_result"
    },
    {
     "data": {
      "image/png": "[encoded data removed]",
      "text/plain": [
       "<Figure size 720x360 with 1 Axes>"
      ]
     },
     "metadata": {
      "needs_background": "light"
     },
     "output_type": "display_data"
    }
   ],
   "source": [
    "# Gathering accuracy score for each model\n",
    "from colour import Color\n",
    "scores = {\n",
    "    \n",
    "    \n",
    "    \n",
    "    'K Nearest Neighbor': {\n",
    "        'Accuracy_score': accuracy_score(y_test, y_pred1)\n",
    "    },\n",
    "    'Logistic Regression': {\n",
    "        'Accuracy_score': accuracy_score(y_test, y_pred)\n",
    "    },\n",
    "    'Random Forest': {\n",
    "        'Accuracy_score': accuracy_score(y_test, y_pred2)\n",
    "    },\n",
    "    'AdaBoost':{\n",
    "        'Accuracy_score': accuracy_score(y_test,y_pred_ada)\n",
    "    },\n",
    "    'Artificial Neural Network':{\n",
    "        'Accuracy_score': accuracy_score(y_test, y_predict)\n",
    "    },\n",
    "    'XGBoost': {\n",
    "        'Accuracy_score': accuracy_score(y_test, y_pred3)\n",
    "    },\n",
    "    \n",
    "    \n",
    "}\n",
    "\n",
    "red = Color(\"red\")\n",
    "colors = list(red.range_to(Color(\"green\"),6))\n",
    "colors = [color.rgb for color in colors]\n",
    "\n",
    "scores = pd.DataFrame(scores)\n",
    "\n",
    "ax = scores.plot(kind=\"barh\",figsize=(10, 5), color=colors)\n",
    "ax.legend(loc='upper center', ncol=3, title=\"Comparison of Machine Learning Models\")\n",
    "\n",
    "ax.set_xlabel(\" Accuracy\")\n",
    "ax.set_ylabel(\"Models\")"
   ]
  },
  {
   "cell_type": "markdown",
   "id": "b24d6d2c",
   "metadata": {},
   "source": [
    "CONCLUSION - In all 6 algorithms used to train model, XGBoost has the best prediction of 87% and has lowest error."
   ]
  },
  {
   "cell_type": "code",
   "execution_count": null,
   "id": "1f4c93aa",
   "metadata": {},
   "outputs": [],
   "source": []
  }
 ],
 "metadata": {
  "colab": {
   "collapsed_sections": [],
   "name": "ML_Project_updated_new.ipynb",
   "provenance": []
  },
  "kernelspec": {
   "display_name": "Python 3",
   "language": "python",
   "name": "python3"
  },
  "language_info": {
   "codemirror_mode": {
    "name": "ipython",
    "version": 3
   },
   "file_extension": ".py",
   "mimetype": "text/x-python",
   "name": "python",
   "nbconvert_exporter": "python",
   "pygments_lexer": "ipython3",
   "version": "3.8.8"
  }
 },
 "nbformat": 4,
 "nbformat_minor": 5
}
